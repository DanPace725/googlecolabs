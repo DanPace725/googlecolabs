{
  "nbformat": 4,
  "nbformat_minor": 0,
  "metadata": {
    "colab": {
      "provenance": [],
      "mount_file_id": "1MJ1B-ZrMuY15ekeFhWzW_iRhMlge9dbC",
      "authorship_tag": "ABX9TyO1JH/dUQHVDrW0sf3MCo0c",
      "include_colab_link": true
    },
    "kernelspec": {
      "name": "python3",
      "display_name": "Python 3"
    },
    "language_info": {
      "name": "python"
    }
  },
  "cells": [
    {
      "cell_type": "markdown",
      "metadata": {
        "id": "view-in-github",
        "colab_type": "text"
      },
      "source": [
        "<a href=\"https://colab.research.google.com/github/DanPace725/googlecolabs/blob/main/BOM_and_SO_Compare.ipynb\" target=\"_parent\"><img src=\"https://colab.research.google.com/assets/colab-badge.svg\" alt=\"Open In Colab\"/></a>"
      ]
    },
    {
      "cell_type": "markdown",
      "source": [
        "The first goal is to import the sales order excel and add a column for xparts that match the Part ID\n"
      ],
      "metadata": {
        "id": "5o_ZQQWt7YRI"
      }
    },
    {
      "cell_type": "code",
      "execution_count": 10,
      "metadata": {
        "id": "k-LOXmP77JtH"
      },
      "outputs": [],
      "source": [
        "import pandas as pd\n",
        "import io\n",
        "from google.colab import files"
      ]
    },
    {
      "cell_type": "code",
      "source": [
        "def read_file(fn,fp = '/content/drive/MyDrive/Palm Harbor/Hard Card Reconciliation/Clean/'):\n",
        "    # Read file using parameters fp (file path), folder, and fn (file_name) \n",
        "      try:\n",
        "        df = pd.read_excel(fp + fn)\n",
        "      except:\n",
        "       raise Exception (\"File didn't load correctly. Check Spelling and make sure file extension is included\")\n",
        "      else: print(\"File read successfully\") \n",
        "      return df"
      ],
      "metadata": {
        "id": "du7rWrmfGt7u"
      },
      "execution_count": 77,
      "outputs": []
    },
    {
      "cell_type": "code",
      "source": [
        "fn = '15275_clean.xlsx' #@param {type:\"string\"}\n",
        "df = read_file(fn)"
      ],
      "metadata": {
        "colab": {
          "base_uri": "https://localhost:8080/"
        },
        "id": "4OC4mST0I5qA",
        "outputId": "72c0eb11-ab85-4ccf-a993-113c48ac7503"
      },
      "execution_count": 80,
      "outputs": [
        {
          "output_type": "stream",
          "name": "stdout",
          "text": [
            "File read successfully\n"
          ]
        }
      ]
    },
    {
      "cell_type": "code",
      "source": [
        "df.head()"
      ],
      "metadata": {
        "id": "GfYjIVvZXEHN"
      },
      "execution_count": null,
      "outputs": []
    }
  ]
}